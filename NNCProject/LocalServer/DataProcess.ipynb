{
 "cells": [
  {
   "cell_type": "code",
   "execution_count": 2,
   "metadata": {
    "collapsed": true
   },
   "outputs": [],
   "source": [
    "import pandas as pd\n",
    "import numpy as np"
   ]
  },
  {
   "cell_type": "code",
   "execution_count": 3,
   "metadata": {
    "collapsed": true
   },
   "outputs": [],
   "source": [
    "from ggplot import *"
   ]
  },
  {
   "cell_type": "code",
   "execution_count": 4,
   "metadata": {
    "collapsed": false
   },
   "outputs": [
    {
     "name": "stderr",
     "output_type": "stream",
     "text": [
      "F:\\Applications\\Anaconda3\\lib\\site-packages\\matplotlib\\__init__.py:872: UserWarning: axes.color_cycle is deprecated and replaced with axes.prop_cycle; please use the latter.\n",
      "  warnings.warn(self.msg_depr % (key, alt_key))\n",
      "F:\\Applications\\Anaconda3\\lib\\site-packages\\ggplot\\stats\\stat_smooth.py:22: FutureWarning: sort(columns=....) is deprecated, use sort_values(by=.....)\n",
      "  data = data.sort(['x'])\n"
     ]
    },
    {
     "data": {
      "text/plain": [
       "<ggplot: (-9223371893999851509)>"
      ]
     },
     "execution_count": 4,
     "metadata": {},
     "output_type": "execute_result"
    }
   ],
   "source": [
    "left_data = pd.read_csv('left_data.csv', names=['command', 'response'], header=0)\n",
    "left_plot = ggplot(aes(x='command', y='response'), data=left_data, ) + \\\n",
    "    geom_point() +\\\n",
    "    stat_smooth(colour='blue', span=0.2)\n",
    "left_plot"
   ]
  },
  {
   "cell_type": "code",
   "execution_count": 5,
   "metadata": {
    "collapsed": false
   },
   "outputs": [
    {
     "name": "stderr",
     "output_type": "stream",
     "text": [
      "F:\\Applications\\Anaconda3\\lib\\site-packages\\matplotlib\\__init__.py:872: UserWarning: axes.color_cycle is deprecated and replaced with axes.prop_cycle; please use the latter.\n",
      "  warnings.warn(self.msg_depr % (key, alt_key))\n",
      "F:\\Applications\\Anaconda3\\lib\\site-packages\\ggplot\\stats\\stat_smooth.py:22: FutureWarning: sort(columns=....) is deprecated, use sort_values(by=.....)\n",
      "  data = data.sort(['x'])\n"
     ]
    },
    {
     "data": {
      "text/plain": [
       "<ggplot: (142849191260)>"
      ]
     },
     "execution_count": 5,
     "metadata": {},
     "output_type": "execute_result"
    }
   ],
   "source": [
    "left_data_mod = left_data\n",
    "left_data_mod.response = left_data.response / 0.9\n",
    "left_mod_plot = ggplot(aes(x='command', y='response'), data=left_data_mod, ) + \\\n",
    "    geom_point() +\\\n",
    "    stat_smooth(colour='blue', span=0.2)\n",
    "left_mod_plot"
   ]
  },
  {
   "cell_type": "code",
   "execution_count": null,
   "metadata": {
    "collapsed": false
   },
   "outputs": [],
   "source": []
  },
  {
   "cell_type": "code",
   "execution_count": 6,
   "metadata": {
    "collapsed": false
   },
   "outputs": [
    {
     "name": "stderr",
     "output_type": "stream",
     "text": [
      "F:\\Applications\\Anaconda3\\lib\\site-packages\\matplotlib\\__init__.py:872: UserWarning: axes.color_cycle is deprecated and replaced with axes.prop_cycle; please use the latter.\n",
      "  warnings.warn(self.msg_depr % (key, alt_key))\n",
      "F:\\Applications\\Anaconda3\\lib\\site-packages\\ggplot\\stats\\stat_smooth.py:22: FutureWarning: sort(columns=....) is deprecated, use sort_values(by=.....)\n",
      "  data = data.sort(['x'])\n"
     ]
    },
    {
     "data": {
      "text/plain": [
       "<ggplot: (142855019647)>"
      ]
     },
     "execution_count": 6,
     "metadata": {},
     "output_type": "execute_result"
    }
   ],
   "source": [
    "right_data = pd.read_csv('right_data.csv', names=['command', 'response'], header=0)\n",
    "right_plot = ggplot(aes(x='command', y='response'), data=right_data, ) + \\\n",
    "    geom_point() + \\\n",
    "    stat_smooth(colour='blue', span=0.2)\n",
    "right_plot"
   ]
  },
  {
   "cell_type": "code",
   "execution_count": 24,
   "metadata": {
    "collapsed": true
   },
   "outputs": [],
   "source": [
    "cutted_left = left_data[left_data.response >= 5]"
   ]
  },
  {
   "cell_type": "code",
   "execution_count": 30,
   "metadata": {
    "collapsed": false
   },
   "outputs": [
    {
     "name": "stderr",
     "output_type": "stream",
     "text": [
      "F:\\Applications\\Anaconda3\\lib\\site-packages\\matplotlib\\__init__.py:872: UserWarning: axes.color_cycle is deprecated and replaced with axes.prop_cycle; please use the latter.\n",
      "  warnings.warn(self.msg_depr % (key, alt_key))\n",
      "F:\\Applications\\Anaconda3\\lib\\site-packages\\ggplot\\stats\\stat_smooth.py:22: FutureWarning: sort(columns=....) is deprecated, use sort_values(by=.....)\n",
      "  data = data.sort(['x'])\n"
     ]
    },
    {
     "data": {
      "text/plain": [
       "<ggplot: (-9223371954390582854)>"
      ]
     },
     "execution_count": 30,
     "metadata": {},
     "output_type": "execute_result"
    }
   ],
   "source": [
    "ggplot(aes(x='command', y='response'), data=cutted_left, ) + \\\n",
    "    geom_point() +\\\n",
    "    stat_smooth(method='lm',colour='blue', span=0.2)"
   ]
  },
  {
   "cell_type": "code",
   "execution_count": null,
   "metadata": {
    "collapsed": true
   },
   "outputs": [],
   "source": []
  }
 ],
 "metadata": {
  "kernelspec": {
   "display_name": "Python 3",
   "language": "python",
   "name": "python3"
  },
  "language_info": {
   "codemirror_mode": {
    "name": "ipython",
    "version": 3
   },
   "file_extension": ".py",
   "mimetype": "text/x-python",
   "name": "python",
   "nbconvert_exporter": "python",
   "pygments_lexer": "ipython3",
   "version": "3.5.1"
  }
 },
 "nbformat": 4,
 "nbformat_minor": 0
}
