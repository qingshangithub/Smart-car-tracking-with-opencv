{
 "cells": [
  {
   "cell_type": "code",
   "execution_count": 14,
   "metadata": {
    "collapsed": true
   },
   "outputs": [],
   "source": [
    "import sqlite3\n",
    "import pickle\n",
    "from more_itertools import unique_everseen\n",
    "import cv2"
   ]
  },
  {
   "cell_type": "code",
   "execution_count": 15,
   "metadata": {
    "collapsed": false
   },
   "outputs": [],
   "source": [
    "conn = sqlite3.connect('data.dat')\n",
    "cursor = conn.cursor()\n",
    "\n",
    "cursor.execute('''SELECT ID, DATE FROM DATA''')\n",
    "result = cursor.fetchall()\n",
    "dates = [r[1] for r in result]\n",
    "dates_unique = list(unique_everseen(dates))"
   ]
  },
  {
   "cell_type": "code",
   "execution_count": 16,
   "metadata": {
    "collapsed": false
   },
   "outputs": [
    {
     "data": {
      "text/plain": [
       "['2016-04-16 10:51:14.288104',\n",
       " '2016-04-16 16:02:21.047555',\n",
       " '2016-04-17 20:30:53.262408',\n",
       " '2016-04-17 20:37:21.876155']"
      ]
     },
     "execution_count": 16,
     "metadata": {},
     "output_type": "execute_result"
    }
   ],
   "source": [
    "dates_unique"
   ]
  },
  {
   "cell_type": "code",
   "execution_count": 22,
   "metadata": {
    "collapsed": false
   },
   "outputs": [],
   "source": [
    "def modify(date):\n",
    "    cursor.execute('SELECT ID, IMAGE FROM TRAIN WHERE DATE = ?', (date,))\n",
    "    result = cursor.fetchall()\n",
    "    images = [pickle.loads(i[1]) for i in result]\n",
    "    ids = [i[0] for i in result]\n",
    "    smaller = [cv2.resize(img, (0, 0), fx=0.2, fy=0.2, interpolation=cv2.INTER_LINEAR) \\\n",
    "              for img in images]\n",
    "    new_img_str = [pickle.dumps(i) for i in smaller]\n",
    "    for id_, img in zip(ids, new_img_str):\n",
    "        cursor.execute('UPDATE TRAIN SET IMAGE = ? WHERE ID = ?', (img, id_))\n",
    "    conn.commit()"
   ]
  },
  {
   "cell_type": "code",
   "execution_count": 20,
   "metadata": {
    "collapsed": false
   },
   "outputs": [],
   "source": [
    "cursor.execute('SELECT ID, IMAGE FROM TRAIN WHERE DATE = ?', (dates_unique[0],))\n",
    "result = cursor.fetchall()"
   ]
  },
  {
   "cell_type": "code",
   "execution_count": 24,
   "metadata": {
    "collapsed": false
   },
   "outputs": [],
   "source": [
    "modify(dates_unique[1])"
   ]
  },
  {
   "cell_type": "code",
   "execution_count": null,
   "metadata": {
    "collapsed": true
   },
   "outputs": [],
   "source": []
  }
 ],
 "metadata": {
  "kernelspec": {
   "display_name": "Python 3",
   "language": "python",
   "name": "python3"
  },
  "language_info": {
   "codemirror_mode": {
    "name": "ipython",
    "version": 3
   },
   "file_extension": ".py",
   "mimetype": "text/x-python",
   "name": "python",
   "nbconvert_exporter": "python",
   "pygments_lexer": "ipython3",
   "version": "3.5.1"
  }
 },
 "nbformat": 4,
 "nbformat_minor": 0
}
