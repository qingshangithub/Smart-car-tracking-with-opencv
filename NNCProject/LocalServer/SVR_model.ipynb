{
 "cells": [
  {
   "cell_type": "code",
   "execution_count": 3,
   "metadata": {
    "collapsed": true
   },
   "outputs": [],
   "source": [
    "import sqlite3\n",
    "import pickle\n",
    "import numpy as np\n",
    "import pandas as pd\n",
    "from sklearn.svm import SVR\n",
    "from sklearn.cross_validation import train_test_split\n",
    "from concurrent.futures import ProcessPoolExecutor\n",
    "from multiprocessing import Queue\n"
   ]
  },
  {
   "cell_type": "markdown",
   "metadata": {},
   "source": [
    "### Dump train data (continuous)"
   ]
  },
  {
   "cell_type": "code",
   "execution_count": 4,
   "metadata": {
    "collapsed": false
   },
   "outputs": [],
   "source": [
    "conn = sqlite3.connect('data.dat')\n",
    "cursor = conn.cursor()\n",
    "\n",
    "cursor.execute(\"SELECT IMAGE, RESPONSE FROM TRAIN\")\n",
    "result = cursor.fetchall()"
   ]
  },
  {
   "cell_type": "code",
   "execution_count": 5,
   "metadata": {
    "collapsed": false
   },
   "outputs": [],
   "source": [
    "image = [pickle.loads(r[0]).reshape(-1) for r in result]"
   ]
  },
  {
   "cell_type": "code",
   "execution_count": 6,
   "metadata": {
    "collapsed": false
   },
   "outputs": [],
   "source": [
    "response = [r[1] for r in result]"
   ]
  },
  {
   "cell_type": "code",
   "execution_count": 8,
   "metadata": {
    "collapsed": false
   },
   "outputs": [],
   "source": [
    "pickle.dump(image, open('image.dat', 'wb'))\n",
    "pickle.dump(response, open('response.dat', 'wb'))"
   ]
  },
  {
   "cell_type": "code",
   "execution_count": 5,
   "metadata": {
    "collapsed": false
   },
   "outputs": [],
   "source": [
    "clf = SVR(C=100, epsilon=0.05, gamma='auto', kernel='rbf', shrinking=True)"
   ]
  },
  {
   "cell_type": "code",
   "execution_count": 6,
   "metadata": {
    "collapsed": false
   },
   "outputs": [
    {
     "data": {
      "text/plain": [
       "SVR(C=100, cache_size=200, coef0=0.0, degree=3, epsilon=0.05, gamma='auto',\n",
       "  kernel='rbf', max_iter=-1, shrinking=True, tol=0.001, verbose=False)"
      ]
     },
     "execution_count": 6,
     "metadata": {},
     "output_type": "execute_result"
    }
   ],
   "source": [
    "clf.fit(image, response)"
   ]
  },
  {
   "cell_type": "code",
   "execution_count": 11,
   "metadata": {
    "collapsed": false
   },
   "outputs": [
    {
     "data": {
      "text/plain": [
       "array([-0.25044157, -0.25044157, -0.55044157])"
      ]
     },
     "execution_count": 11,
     "metadata": {},
     "output_type": "execute_result"
    }
   ],
   "source": [
    "clf.predict(image[0:3])"
   ]
  },
  {
   "cell_type": "code",
   "execution_count": 9,
   "metadata": {
    "collapsed": false
   },
   "outputs": [
    {
     "data": {
      "text/plain": [
       "-0.9"
      ]
     },
     "execution_count": 9,
     "metadata": {},
     "output_type": "execute_result"
    }
   ],
   "source": [
    "response[10]"
   ]
  },
  {
   "cell_type": "markdown",
   "metadata": {},
   "source": [
    "### Splite dataset"
   ]
  },
  {
   "cell_type": "code",
   "execution_count": 33,
   "metadata": {
    "collapsed": false
   },
   "outputs": [],
   "source": [
    "clf = SVR(kernel='rbf', shrinking=True, epsilon=0.05, )\n",
    "clf.fit(image, response)\n",
    "cost(clf.predict(image), response)\n",
    "pickle.dump(clf, open('svr_predict', 'wb'))"
   ]
  },
  {
   "cell_type": "code",
   "execution_count": 6,
   "metadata": {
    "collapsed": false
   },
   "outputs": [],
   "source": [
    "x_train, x_test, y_train, y_test = train_test_split(image, response,\n",
    "                                                   test_size=0.2, random_state=0)"
   ]
  },
  {
   "cell_type": "code",
   "execution_count": 45,
   "metadata": {
    "collapsed": false
   },
   "outputs": [
    {
     "name": "stdout",
     "output_type": "stream",
     "text": [
      "[ 0.95017462]\n",
      "1.0\n"
     ]
    },
    {
     "name": "stderr",
     "output_type": "stream",
     "text": [
      "F:\\Applications\\Anaconda3\\lib\\site-packages\\sklearn\\utils\\validation.py:386: DeprecationWarning: Passing 1d arrays as data is deprecated in 0.17 and willraise ValueError in 0.19. Reshape your data either using X.reshape(-1, 1) if your data has a single feature or X.reshape(1, -1) if it contains a single sample.\n",
      "  DeprecationWarning)\n"
     ]
    }
   ],
   "source": [
    "clf2 = pickle.load(open('svr_predict', 'rb'))\n",
    "print(clf2.predict(image[100]))\n",
    "print(response[100])"
   ]
  },
  {
   "cell_type": "markdown",
   "metadata": {},
   "source": [
    "### Choose c and gamma"
   ]
  },
  {
   "cell_type": "code",
   "execution_count": 8,
   "metadata": {
    "collapsed": false
   },
   "outputs": [
    {
     "data": {
      "text/plain": [
       "'\\nwith ProcessPoolExecutor(max_workers=4) as executor:\\n    for c, gamma in generate_parameter():\\n        executor.submit(calcu, c, gamma, x_train, y_train, x_test, y_test,\\n                       data_queue)\\n'"
      ]
     },
     "execution_count": 8,
     "metadata": {},
     "output_type": "execute_result"
    }
   ],
   "source": [
    "range_c = (1, 1000)\n",
    "range_gamma = (1/494, 10)\n",
    "iter_round = 10\n",
    "cs = []\n",
    "gammas = []\n",
    "variances = []\n",
    "biases = []\n",
    "data_queue = Queue()\n",
    "\n",
    "def generate_parameter():\n",
    "    for i in range(0, iter_round):\n",
    "        c = (range_c[1] - range_c[0])/iter_round + range_c[0]\n",
    "        for j in range(0, iter_round):\n",
    "            g = (range_gamma[1] - range_gamma[0])/iter_round + range_gamma[0]\n",
    "            yield c, g\n",
    "\n",
    "# vectors\n",
    "def cost(x, y):\n",
    "    x_array = np.array(x)\n",
    "    y_array = np.array(y)\n",
    "    square = x_array.dot(y_array)\n",
    "    return square/y_array.shape[0]\n",
    "\n",
    "def calcu(c, gamma, x_tr, y_tr, x_te, y_te, queue):\n",
    "    clf = SVR(C=c, epsilon=0.05, kernel='rbf', gamma=gamma, shrinking=True)\n",
    "    clf.fit(x_tr, y_tr)\n",
    "    var = cost(clf.predict(x_tr), y_tr)\n",
    "    bias = cost(clf.predict(x_te), y_te)\n",
    "    queue.put((c, gamma, var, bias))\n",
    "    print('c: %f', 'gamma: %f' % (c,gamma))\n",
    "\n",
    "\"\"\"\n",
    "with ProcessPoolExecutor(max_workers=4) as executor:\n",
    "    for c, gamma in generate_parameter():\n",
    "        executor.submit(calcu, c, gamma, x_train, y_train, x_test, y_test,\n",
    "                       data_queue)\n",
    "\"\"\"\n"
   ]
  },
  {
   "cell_type": "markdown",
   "metadata": {},
   "source": [
    "### No parallel"
   ]
  },
  {
   "cell_type": "code",
   "execution_count": 21,
   "metadata": {
    "collapsed": false
   },
   "outputs": [
    {
     "name": "stdout",
     "output_type": "stream",
     "text": [
      "1.0 0.0020242914979757085 0.371549472028 0.123523464921\n",
      "1.0 1.001821862348178 0.371622527575 0.123479600049\n",
      "1.0 2.0016194331983805 0.371622527575 0.123479600049\n",
      "1.0 3.001417004048583 0.371622527575 0.123479600049\n",
      "1.0 4.0012145748987855 0.371622527575 0.123479600049\n",
      "1.0 5.001012145748987 0.371622527575 0.123479600049\n",
      "1.0 6.00080971659919 0.371622527575 0.123479600049\n",
      "1.0 7.000607287449392 0.371622527575 0.123479600049\n",
      "1.0 8.000404858299595 0.371622527575 0.123479600049\n",
      "1.0 9.000202429149798 0.371622527575 0.123479600049\n",
      "100.9 0.0020242914979757085 0.376292984679 0.124094439754\n",
      "100.9 1.001821862348178 0.376270285244 0.124041642359\n",
      "100.9 2.0016194331983805 0.376270285244 0.124041642359\n",
      "100.9 3.001417004048583 0.376270285244 0.124041642359\n",
      "100.9 4.0012145748987855 0.376270285244 0.124041642359\n",
      "100.9 5.001012145748987 0.376270285244 0.124041642359\n",
      "100.9 6.00080971659919 0.376270285244 0.124041642359\n",
      "100.9 7.000607287449392 0.376270285244 0.124041642359\n",
      "100.9 8.000404858299595 0.376270285244 0.124041642359\n",
      "100.9 9.000202429149798 0.376270285244 0.124041642359\n",
      "200.8 0.0020242914979757085 0.376292059486 0.124085208974\n",
      "200.8 1.001821862348178 0.3762498234 0.124032298593\n",
      "200.8 2.0016194331983805 0.3762498234 0.124032298593\n",
      "200.8 3.001417004048583 0.3762498234 0.124032298593\n",
      "200.8 4.0012145748987855 0.3762498234 0.124032298593\n",
      "200.8 5.001012145748987 0.3762498234 0.124032298593\n",
      "200.8 6.00080971659919 0.3762498234 0.124032298593\n",
      "200.8 7.000607287449392 0.3762498234 0.124032298593\n",
      "200.8 8.000404858299595 0.3762498234 0.124032298593\n",
      "200.8 9.000202429149798 0.3762498234 0.124032298593\n",
      "300.70000000000005 0.0020242914979757085 0.376293211027 0.124086380694\n",
      "300.70000000000005 1.001821862348178 0.376261998196 0.124033368525\n",
      "300.70000000000005 2.0016194331983805 0.376261998196 0.124033368525\n",
      "300.70000000000005 3.001417004048583 0.376261998196 0.124033368525\n",
      "300.70000000000005 4.0012145748987855 0.376261998196 0.124033368525\n",
      "300.70000000000005 5.001012145748987 0.376261998196 0.124033368525\n",
      "300.70000000000005 6.00080971659919 0.376261998196 0.124033368525\n",
      "300.70000000000005 7.000607287449392 0.376261998196 0.124033368525\n",
      "300.70000000000005 8.000404858299595 0.376261998196 0.124033368525\n",
      "300.70000000000005 9.000202429149798 0.376261998196 0.124033368525\n",
      "400.6 0.0020242914979757085 0.376293211027 0.124086380694\n",
      "400.6 1.001821862348178 0.376261998196 0.124033368525\n",
      "400.6 2.0016194331983805 0.376261998196 0.124033368525\n",
      "400.6 3.001417004048583 0.376261998196 0.124033368525\n",
      "400.6 4.0012145748987855 0.376261998196 0.124033368525\n",
      "400.6 5.001012145748987 0.376261998196 0.124033368525\n",
      "400.6 6.00080971659919 0.376261998196 0.124033368525\n",
      "400.6 7.000607287449392 0.376261998196 0.124033368525\n",
      "400.6 8.000404858299595 0.376261998196 0.124033368525\n",
      "400.6 9.000202429149798 0.376261998196 0.124033368525\n",
      "500.5 0.0020242914979757085 0.376293211027 0.124086380694\n",
      "500.5 1.001821862348178 0.376261998196 0.124033368525\n",
      "500.5 2.0016194331983805 0.376261998196 0.124033368525\n",
      "500.5 3.001417004048583 0.376261998196 0.124033368525\n",
      "500.5 4.0012145748987855 0.376261998196 0.124033368525\n",
      "500.5 5.001012145748987 0.376261998196 0.124033368525\n",
      "500.5 6.00080971659919 0.376261998196 0.124033368525\n",
      "500.5 7.000607287449392 0.376261998196 0.124033368525\n",
      "500.5 8.000404858299595 0.376261998196 0.124033368525\n",
      "500.5 9.000202429149798 0.376261998196 0.124033368525\n",
      "600.4000000000001 0.0020242914979757085 0.376293163373 0.12408612255\n",
      "600.4000000000001 1.001821862348178 0.376259222354 0.124030831369\n",
      "600.4000000000001 2.0016194331983805 0.376259222354 0.124030831369\n",
      "600.4000000000001 3.001417004048583 0.376259222354 0.124030831369\n",
      "600.4000000000001 4.0012145748987855 0.376259222354 0.124030831369\n",
      "600.4000000000001 5.001012145748987 0.376259222354 0.124030831369\n",
      "600.4000000000001 6.00080971659919 0.376259222354 0.124030831369\n",
      "600.4000000000001 7.000607287449392 0.376259222354 0.124030831369\n",
      "600.4000000000001 8.000404858299595 0.376259222354 0.124030831369\n",
      "600.4000000000001 9.000202429149798 0.376259222354 0.124030831369\n",
      "700.3000000000001 0.0020242914979757085 0.376293139898 0.124086095998\n",
      "700.3000000000001 1.001821862348178 0.376261617696 0.124030831369\n",
      "700.3000000000001 2.0016194331983805 0.376261617696 0.124030831369\n",
      "700.3000000000001 3.001417004048583 0.376261617696 0.124030831369\n",
      "700.3000000000001 4.0012145748987855 0.376261617696 0.124030831369\n",
      "700.3000000000001 5.001012145748987 0.376261617696 0.124030831369\n",
      "700.3000000000001 6.00080971659919 0.376261617696 0.124030831369\n",
      "700.3000000000001 7.000607287449392 0.376261617696 0.124030831369\n",
      "700.3000000000001 8.000404858299595 0.376261617696 0.124030831369\n",
      "700.3000000000001 9.000202429149798 0.376261617696 0.124030831369\n",
      "800.2 0.0020242914979757085 0.376293163373 0.12408612255\n",
      "800.2 1.001821862348178 0.376259222354 0.124030831369\n",
      "800.2 2.0016194331983805 0.376259222354 0.124030831369\n",
      "800.2 3.001417004048583 0.376259222354 0.124030831369\n",
      "800.2 4.0012145748987855 0.376259222354 0.124030831369\n",
      "800.2 5.001012145748987 0.376259222354 0.124030831369\n",
      "800.2 6.00080971659919 0.376259222354 0.124030831369\n",
      "800.2 7.000607287449392 0.376259222354 0.124030831369\n",
      "800.2 8.000404858299595 0.376259222354 0.124030831369\n",
      "800.2 9.000202429149798 0.376259222354 0.124030831369\n",
      "900.1 0.0020242914979757085 0.376293139898 0.124086095998\n",
      "900.1 1.001821862348178 0.376261617696 0.124030831369\n",
      "900.1 2.0016194331983805 0.376261617696 0.124030831369\n",
      "900.1 3.001417004048583 0.376261617696 0.124030831369\n",
      "900.1 4.0012145748987855 0.376261617696 0.124030831369\n",
      "900.1 5.001012145748987 0.376261617696 0.124030831369\n",
      "900.1 6.00080971659919 0.376261617696 0.124030831369\n",
      "900.1 7.000607287449392 0.376261617696 0.124030831369\n",
      "900.1 8.000404858299595 0.376261617696 0.124030831369\n",
      "900.1 9.000202429149798 0.376261617696 0.124030831369\n"
     ]
    },
    {
     "ename": "FileNotFoundError",
     "evalue": "[Errno 2] No such file or directory: 'para_1_1000_1/494_10'",
     "output_type": "error",
     "traceback": [
      "\u001b[1;31m---------------------------------------------------------------------------\u001b[0m",
      "\u001b[1;31mFileNotFoundError\u001b[0m                         Traceback (most recent call last)",
      "\u001b[1;32m<ipython-input-21-6e800b6722c6>\u001b[0m in \u001b[0;36m<module>\u001b[1;34m()\u001b[0m\n\u001b[0;32m     17\u001b[0m     \u001b[0mprint\u001b[0m\u001b[1;33m(\u001b[0m\u001b[0mc\u001b[0m\u001b[1;33m,\u001b[0m \u001b[0mgamma\u001b[0m\u001b[1;33m,\u001b[0m \u001b[0mvar\u001b[0m\u001b[1;33m,\u001b[0m \u001b[0mbias\u001b[0m\u001b[1;33m)\u001b[0m\u001b[1;33m\u001b[0m\u001b[0m\n\u001b[0;32m     18\u001b[0m \u001b[1;33m\u001b[0m\u001b[0m\n\u001b[1;32m---> 19\u001b[1;33m \u001b[0mpickle\u001b[0m\u001b[1;33m.\u001b[0m\u001b[0mdump\u001b[0m\u001b[1;33m(\u001b[0m\u001b[0mzip\u001b[0m\u001b[1;33m(\u001b[0m\u001b[0mcs\u001b[0m\u001b[1;33m,\u001b[0m \u001b[0mgammas\u001b[0m\u001b[1;33m,\u001b[0m \u001b[0mvariances\u001b[0m\u001b[1;33m,\u001b[0m \u001b[0mbiases\u001b[0m\u001b[1;33m)\u001b[0m\u001b[1;33m,\u001b[0m \u001b[0mopen\u001b[0m\u001b[1;33m(\u001b[0m\u001b[1;34m'para_1_1000_1/494_10'\u001b[0m\u001b[1;33m,\u001b[0m\u001b[1;34m'wb'\u001b[0m\u001b[1;33m)\u001b[0m\u001b[1;33m)\u001b[0m\u001b[1;33m\u001b[0m\u001b[0m\n\u001b[0m",
      "\u001b[1;31mFileNotFoundError\u001b[0m: [Errno 2] No such file or directory: 'para_1_1000_1/494_10'"
     ]
    }
   ],
   "source": [
    "range_c = (1, 1000)\n",
    "range_gamma = (1/494, 10)\n",
    "iter_round = 10\n",
    "cs = []\n",
    "gammas = []\n",
    "variances = []\n",
    "biases = []\n",
    "for c, gamma in generate_parameter():\n",
    "    clf = SVR(C=c, epsilon=0.05, kernel='rbf', gamma=gamma, shrinking=True)\n",
    "    clf.fit(x_train, y_train)\n",
    "    var = cost(clf.predict(x_train), y_train)\n",
    "    bias = cost(clf.predict(x_test), y_test)\n",
    "    cs.append(c)\n",
    "    gammas.append(gamma)\n",
    "    variances.append(var)\n",
    "    biases.append(bias)\n",
    "    print(c, gamma, var, bias)\n",
    "\n",
    "pickle.dump(zip(cs, gammas, variances, biases), open('para_1_1000_1/494_10','wb'))\n"
   ]
  },
  {
   "cell_type": "markdown",
   "metadata": {},
   "source": [
    "### Plot "
   ]
  }
 ],
 "metadata": {
  "kernelspec": {
   "display_name": "Python 3",
   "language": "python",
   "name": "python3"
  },
  "language_info": {
   "codemirror_mode": {
    "name": "ipython",
    "version": 3
   },
   "file_extension": ".py",
   "mimetype": "text/x-python",
   "name": "python",
   "nbconvert_exporter": "python",
   "pygments_lexer": "ipython3",
   "version": "3.5.1"
  }
 },
 "nbformat": 4,
 "nbformat_minor": 0
}
