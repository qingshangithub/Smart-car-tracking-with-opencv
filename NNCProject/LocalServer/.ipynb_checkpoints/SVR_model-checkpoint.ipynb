{
 "cells": [
  {
   "cell_type": "code",
   "execution_count": 1,
   "metadata": {
    "collapsed": true
   },
   "outputs": [],
   "source": [
    "import sqlite3\n",
    "import pickle\n",
    "import numpy as np\n",
    "import pandas as pd\n",
    "from sklearn.svm import SVR\n",
    "from sklearn.cross_validation import train_test_split\n",
    "from concurrent.futures import ProcessPoolExecutor\n",
    "from multiprocessing import Queue\n"
   ]
  },
  {
   "cell_type": "markdown",
   "metadata": {},
   "source": [
    "### Dump train data (continuous)"
   ]
  },
  {
   "cell_type": "code",
   "execution_count": 2,
   "metadata": {
    "collapsed": true
   },
   "outputs": [],
   "source": [
    "conn = sqlite3.connect('data.dat')\n",
    "cursor = conn.cursor()\n",
    "\n",
    "cursor.execute(\"SELECT IMAGE, RESPONSE FROM TRAIN\")\n",
    "result = cursor.fetchall()"
   ]
  },
  {
   "cell_type": "code",
   "execution_count": 3,
   "metadata": {
    "collapsed": false
   },
   "outputs": [],
   "source": [
    "image = [pickle.loads(r[0]).reshape(-1) for r in result]"
   ]
  },
  {
   "cell_type": "code",
   "execution_count": 5,
   "metadata": {
    "collapsed": false
   },
   "outputs": [],
   "source": [
    "response = [r[1] for r in result]"
   ]
  },
  {
   "cell_type": "code",
   "execution_count": 5,
   "metadata": {
    "collapsed": false
   },
   "outputs": [],
   "source": [
    "clf = SVR(C=100, epsilon=0.05, gamma='auto', kernel='rbf', shrinking=True)"
   ]
  },
  {
   "cell_type": "code",
   "execution_count": 6,
   "metadata": {
    "collapsed": false
   },
   "outputs": [
    {
     "data": {
      "text/plain": [
       "SVR(C=100, cache_size=200, coef0=0.0, degree=3, epsilon=0.05, gamma='auto',\n",
       "  kernel='rbf', max_iter=-1, shrinking=True, tol=0.001, verbose=False)"
      ]
     },
     "execution_count": 6,
     "metadata": {},
     "output_type": "execute_result"
    }
   ],
   "source": [
    "clf.fit(image, response)"
   ]
  },
  {
   "cell_type": "code",
   "execution_count": 11,
   "metadata": {
    "collapsed": false
   },
   "outputs": [
    {
     "data": {
      "text/plain": [
       "array([-0.25044157, -0.25044157, -0.55044157])"
      ]
     },
     "execution_count": 11,
     "metadata": {},
     "output_type": "execute_result"
    }
   ],
   "source": [
    "clf.predict(image[0:3])"
   ]
  },
  {
   "cell_type": "code",
   "execution_count": 9,
   "metadata": {
    "collapsed": false
   },
   "outputs": [
    {
     "data": {
      "text/plain": [
       "-0.9"
      ]
     },
     "execution_count": 9,
     "metadata": {},
     "output_type": "execute_result"
    }
   ],
   "source": [
    "response[10]"
   ]
  },
  {
   "cell_type": "markdown",
   "metadata": {},
   "source": [
    "### Splite dataset"
   ]
  },
  {
   "cell_type": "code",
   "execution_count": 6,
   "metadata": {
    "collapsed": false
   },
   "outputs": [],
   "source": [
    "x_train, x_test, y_train, y_test = train_test_split(image, response,\n",
    "                                                   test_size=0.2, random_state=0)"
   ]
  },
  {
   "cell_type": "markdown",
   "metadata": {},
   "source": [
    "### Choose c and gamma"
   ]
  },
  {
   "cell_type": "code",
   "execution_count": 8,
   "metadata": {
    "collapsed": false
   },
   "outputs": [
    {
     "data": {
      "text/plain": [
       "'\\nwith ProcessPoolExecutor(max_workers=4) as executor:\\n    for c, gamma in generate_parameter():\\n        executor.submit(calcu, c, gamma, x_train, y_train, x_test, y_test,\\n                       data_queue)\\n'"
      ]
     },
     "execution_count": 8,
     "metadata": {},
     "output_type": "execute_result"
    }
   ],
   "source": [
    "range_c = (1, 1000)\n",
    "range_gamma = (1/494, 10)\n",
    "iter_round = 10\n",
    "cs = []\n",
    "gammas = []\n",
    "variances = []\n",
    "biases = []\n",
    "data_queue = Queue()\n",
    "\n",
    "def generate_parameter():\n",
    "    for i in range(0, iter_round):\n",
    "        c = (range_c[1] - range_c[0])/iter_round + range_c[0]\n",
    "        for j in range(0, iter_round):\n",
    "            g = (range_gamma[1] - range_gamma[0])/iter_round + range_gamma[0]\n",
    "            yield c, g\n",
    "\n",
    "# vectors\n",
    "def cost(x, y):\n",
    "    x_array = np.array(x)\n",
    "    y_array = np.array(y)\n",
    "    square = x_array.dot(y_array)\n",
    "    return square/y_array.shape[0]\n",
    "\n",
    "def calcu(c, gamma, x_tr, y_tr, x_te, y_te, queue):\n",
    "    clf = SVR(C=c, epsilon=0.05, kernel='rbf', gamma=gamma, shrinking=True)\n",
    "    clf.fit(x_tr, y_tr)\n",
    "    var = cost(clf.predict(x_tr), y_tr)\n",
    "    bias = cost(clf.predict(x_te), y_te)\n",
    "    queue.put((c, gamma, var, bias))\n",
    "    print('c: %f', 'gamma: %f' % (c,gamma))\n",
    "\n",
    "\"\"\"\n",
    "with ProcessPoolExecutor(max_workers=4) as executor:\n",
    "    for c, gamma in generate_parameter():\n",
    "        executor.submit(calcu, c, gamma, x_train, y_train, x_test, y_test,\n",
    "                       data_queue)\n",
    "\"\"\"\n"
   ]
  },
  {
   "cell_type": "markdown",
   "metadata": {},
   "source": [
    "### No parallel"
   ]
  },
  {
   "cell_type": "code",
   "execution_count": 10,
   "metadata": {
    "collapsed": false
   },
   "outputs": [
    {
     "ename": "TypeError",
     "evalue": "not all arguments converted during string formatting",
     "output_type": "error",
     "traceback": [
      "\u001b[1;31m---------------------------------------------------------------------------\u001b[0m",
      "\u001b[1;31mTypeError\u001b[0m                                 Traceback (most recent call last)",
      "\u001b[1;32m<ipython-input-10-169b9e30a751>\u001b[0m in \u001b[0;36m<module>\u001b[1;34m()\u001b[0m\n\u001b[0;32m     15\u001b[0m     \u001b[0mvariances\u001b[0m\u001b[1;33m.\u001b[0m\u001b[0mappend\u001b[0m\u001b[1;33m(\u001b[0m\u001b[0mvar\u001b[0m\u001b[1;33m)\u001b[0m\u001b[1;33m\u001b[0m\u001b[0m\n\u001b[0;32m     16\u001b[0m     \u001b[0mbiases\u001b[0m\u001b[1;33m.\u001b[0m\u001b[0mappend\u001b[0m\u001b[1;33m(\u001b[0m\u001b[0mbias\u001b[0m\u001b[1;33m)\u001b[0m\u001b[1;33m\u001b[0m\u001b[0m\n\u001b[1;32m---> 17\u001b[1;33m     \u001b[0mprint\u001b[0m\u001b[1;33m(\u001b[0m\u001b[1;34m'c: %f'\u001b[0m\u001b[1;33m,\u001b[0m \u001b[1;34m'gamma: %f'\u001b[0m \u001b[1;33m%\u001b[0m \u001b[1;33m(\u001b[0m\u001b[0mc\u001b[0m\u001b[1;33m,\u001b[0m\u001b[0mgamma\u001b[0m\u001b[1;33m)\u001b[0m\u001b[1;33m)\u001b[0m\u001b[1;33m\u001b[0m\u001b[0m\n\u001b[0m\u001b[0;32m     18\u001b[0m \u001b[1;33m\u001b[0m\u001b[0m\n\u001b[0;32m     19\u001b[0m \u001b[1;33m\u001b[0m\u001b[0m\n",
      "\u001b[1;31mTypeError\u001b[0m: not all arguments converted during string formatting"
     ]
    }
   ],
   "source": [
    "range_c = (1, 1000)\n",
    "range_gamma = (1/494, 10)\n",
    "iter_round = 10\n",
    "cs = []\n",
    "gammas = []\n",
    "variances = []\n",
    "biases = []\n",
    "for c, gamma in generate_parameter():\n",
    "    clf = SVR(C=c, epsilon=0.05, kernel='rbf', gamma=gamma, shrinking=True)\n",
    "    clf.fit(x_train, y_train)\n",
    "    var = cost(clf.predict(x_train), y_train)\n",
    "    bias = cost(clf.predict(x_test), y_test)\n",
    "    cs.append(c)\n",
    "    gammas.append(gamma)\n",
    "    variances.append(var)\n",
    "    biases.append(bias)\n",
    "    print('c: %f', 'gamma: %f' %(c, gamma))\n",
    "\n",
    "pickle.dump(zip(cs, gammas, variances, biases), open('para_1_1000_1/494_10'， 'wb'))\n"
   ]
  },
  {
   "cell_type": "markdown",
   "metadata": {},
   "source": [
    "### Plot "
   ]
  }
 ],
 "metadata": {
  "kernelspec": {
   "display_name": "Python 3",
   "language": "python",
   "name": "python3"
  }
 },
 "nbformat": 4,
 "nbformat_minor": 0
}
