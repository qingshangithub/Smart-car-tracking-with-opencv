{
 "cells": [
  {
   "cell_type": "code",
   "execution_count": 51,
   "metadata": {
    "collapsed": false
   },
   "outputs": [],
   "source": [
    "import pandas as pd\n",
    "import numpy as np\n",
    "import ggplot as plt\n",
    "import scipy as sp\n",
    "from scipy.optimize import minimize\n",
    "\n",
    "\n",
    "class Layer(object):\n",
    "    delta_init = 0.12\n",
    "\n",
    "    def __init__(self, num_i, num_o):\n",
    "        self.in_num = num_i\n",
    "        self.out_num = num_o\n",
    "        self.forward_matrix = np.matrix(np.random.uniform(-self.delta_init, self.delta_init, num_i * num_o)).reshape(\n",
    "            num_o, num_i)\n",
    "        self.bias = np.array(np.random.uniform(-self.delta_init, self.delta_init, num_o))\n",
    "\n",
    "\n",
    "class NeuralNetwork(object):\n",
    "    def __init__(self, i, j, k, lam):\n",
    "        self.I_num = i\n",
    "        self.J_num = j\n",
    "        self.K_num = k\n",
    "        self.constrain_lambda = lam\n",
    "        self.layer_I = Layer(i, j)\n",
    "        self.layer_J = Layer(j, k)\n",
    "\n",
    "    @staticmethod\n",
    "    def sigmoid(x):\n",
    "        return 1 / (1 + np.exp(-x))\n",
    "\n",
    "    def unpack(self, long_vector):\n",
    "        w_i_j = long_vector[0:(self.I_num*self.J_num)].reshape(self.J_num, self.I_num)\n",
    "        b_i = long_vector[(self.I_num*self.J_num): (self.I_num*self.J_num+self.J_num)]\n",
    "        w_j_k = long_vector[(self.I_num*self.J_num+self.J_num):\n",
    "            (self.I_num*self.J_num+self.J_num+self.J_num*self.K_num)].reshape(self.K_num, self.J_num)\n",
    "        b_j = long_vector[(self.I_num*self.J_num+self.J_num+self.J_num*self.K_num):len(long_vector)]\n",
    "        return np.matrix(w_i_j),\\\n",
    "                b_i, np.matrix(w_j_k), b_j\n",
    "\n",
    "    def pack(self):\n",
    "        vector = np.hstack((\n",
    "            np.asarray(self.layer_I.forward_matrix).reshape(-1), self.layer_I.bias,\n",
    "            np.asarray(self.layer_J.forward_matrix).reshape(-1), self.layer_J.bias)\n",
    "        )\n",
    "        return vector\n",
    "\n",
    "    def predict(self, x_vec):\n",
    "        step_one = self.sigmoid(self.layer_I.forward_matrix * x_vec + self.layer_I.bias[:, np.newaxis])\n",
    "        step_two = self.sigmoid(self.layer_J.forward_matrix * step_one + self.layer_J.bias[:, np.newaxis])\n",
    "        return step_two\n",
    "\n",
    "    @staticmethod\n",
    "    def cost(long_vec, x_vec, y_vec, self):\n",
    "        n = self.K_num\n",
    "        lamb = self.constrain_lambda\n",
    "        w_i_j, b_i, w_j_k, b_j = self.unpack(long_vec)\n",
    "        o_j = self.sigmoid(w_i_j * x_vec + b_i[:, np.newaxis])\n",
    "        o_k = self.sigmoid(w_j_k * o_j + b_j[:, np.newaxis])\n",
    "        return -1 / n * np.sum(np.multiply(y_vec,np.log(o_k)) + np.multiply((1 - y_vec), np.log(1 - o_k))) + \\\n",
    "               lamb / (2 * n) * (np.sum(np.multiply(w_i_j, w_i_j)) + np.sum(np.multiply(w_j_k, w_j_k)))\n",
    "\n",
    "    @staticmethod\n",
    "    def gradient(long_vec, x_vec, y_vec, self):\n",
    "        n = self.K_num\n",
    "        ncol = x_vec.shape[1]\n",
    "        lamd = self.constrain_lambda\n",
    "        w_i_j, b_i, w_j_k, b_j = self.unpack(long_vec)\n",
    "        o_i = x_vec\n",
    "        o_j = self.sigmoid(w_i_j * o_i + b_i[:, np.newaxis])\n",
    "        o_k = self.sigmoid(w_j_k * o_j + b_j[:, np.newaxis])\n",
    "        delta = -(1 / n) * (y_vec - o_k)\n",
    "        partial_w_j_k = delta * o_j.T + lamd / n * w_j_k\n",
    "        partial_b_j = delta * np.ones(ncol).reshape(ncol, 1)\n",
    "        delta = np.multiply(w_j_k.T * delta, np.multiply(o_j, (1 - o_j)))\n",
    "        partial_w_i_j = delta * o_i.T + lamd / n * w_i_j\n",
    "        partial_b_i = delta * np.ones(ncol).reshape(ncol, 1)\n",
    "        return np.hstack((\n",
    "            np.asarray(partial_w_i_j).reshape(-1), np.asarray(partial_b_i).reshape(-1),\n",
    "            np.asarray(partial_w_j_k).reshape(-1), np.asarray(partial_b_j).reshape(-1),)\n",
    "        )\n",
    "\n",
    "    @staticmethod\n",
    "    def delta_gradient(long_vec,  x_vec, y_vec, self):\n",
    "        epsilon = 0.005\n",
    "        num = len(long_vec)\n",
    "        l = []\n",
    "        for i in range(0, num):\n",
    "            upper = np.array(long_vec, copy=True)\n",
    "            upper[i] += epsilon\n",
    "            lower = np.array(long_vec, copy=True)\n",
    "            lower[i] -= epsilon\n",
    "            delta = self.cost(upper, x_vec, y_vec, self) - self.cost(lower, x_vec, y_vec, self)\n",
    "            l.append(delta/(2*epsilon))\n",
    "        return np.array(l)\n",
    "\n",
    "    def gradient_check(self, x_vec, y_vec):\n",
    "        long_vec = self.pack()\n",
    "        delta_g = self.delta_gradient(long_vec, x_vec, y_vec, self)\n",
    "        bp_g = self.gradient(long_vec, x_vec, y_vec, self)\n",
    "        difference = bp_g - delta_g\n",
    "        return difference.max()\n",
    "\n",
    "    def bulk_train(self, x_series, y_series):\n",
    "        x_list = []\n",
    "        for row in x_series:\n",
    "            x_list.append(row.reshape(-1))\n",
    "        x_mat = np.matrix(x_list).T\n",
    "        y_list = []\n",
    "        for row in y_series:\n",
    "            y_list.append(row.reshape(-1))\n",
    "        y_mat = np.matrix(y_list).T\n",
    "        long_vector = self.pack()\n",
    "        result = minimize(fun=self.cost, x0=long_vector, method='L-BFGS-B', jac=self.gradient, args=(x_mat, y_mat, self))\n",
    "        self.layer_I.forward_matrix, self.layer_I.bias, \\\n",
    "            self.layer_J.forward_matrix, self.layer_J.bias = self.unpack(result.x)\n",
    "    \n",
    "    def load_parameters(self, fn):\n",
    "        long_vec = pickle.load(open(fn, 'rb'))\n",
    "        w_i_j, b_i, w_j_k, b_j = self.unpack(long_vec)\n",
    "        self.layer_I.forward_matrix = w_i_j\n",
    "        self.layer_I.bias = b_i\n",
    "        self.layer_J.forward_matrix = w_j_k\n",
    "        self.layer_J.bias = b_j\n",
    "\n",
    "    def dump_parameters(self, fn):\n",
    "        pickle.dump(self.pack(), open(fn, 'wb'))\n"
   ]
  },
  {
   "cell_type": "code",
   "execution_count": 10,
   "metadata": {
    "collapsed": false
   },
   "outputs": [
    {
     "name": "stdout",
     "output_type": "stream",
     "text": [
      "Sample number: 330\n"
     ]
    }
   ],
   "source": [
    "import pickle\n",
    "\n",
    "x = pickle.load(open('x.pickle', 'rb'))\n",
    "y = pickle.load(open('y.pickle', 'rb'))\n",
    "xs = []\n",
    "for row in x:\n",
    "    xs.append(row.reshape(-1))\n",
    "x_matrix = np.matrix(xs).T\n",
    "ys = []\n",
    "for row in y:\n",
    "    ys.append(row.reshape(-1))\n",
    "y_matrix = np.matrix(ys).T\n",
    "\n",
    "print('Sample number: %d' % len(xs))"
   ]
  },
  {
   "cell_type": "code",
   "execution_count": 11,
   "metadata": {
    "collapsed": false
   },
   "outputs": [
    {
     "name": "stdout",
     "output_type": "stream",
     "text": [
      "Sample number: 879\n"
     ]
    }
   ],
   "source": [
    "x = pickle.load(open('x.pickle', 'rb'))\n",
    "y = pickle.load(open('y.pickle', 'rb'))\n",
    "for row in x:\n",
    "    xs.append(row.reshape(-1))\n",
    "for row in y:\n",
    "    ys.append(row.reshape(-1))\n",
    "x_matrix = np.matrix(xs).T\n",
    "y_matrix = np.matrix(ys).T\n",
    "print('Sample number: %d' % len(xs))"
   ]
  },
  {
   "cell_type": "markdown",
   "metadata": {},
   "source": [
    "## Train "
   ]
  },
  {
   "cell_type": "markdown",
   "metadata": {},
   "source": [
    "### Split "
   ]
  },
  {
   "cell_type": "code",
   "execution_count": 88,
   "metadata": {
    "collapsed": true
   },
   "outputs": [],
   "source": [
    "from sklearn import cross_validation\n",
    "x_train, x_test, y_train, y_test = cross_validation.train_test_split(xs, ys, \n",
    "                                                                    test_size=0.2,\n",
    "                                                                    random_state=0)\n",
    "\n",
    "x_train_mat = np.matrix(x_train).T \n",
    "y_train_mat = np.matrix(y_train).T\n",
    "x_test_mat = np.matrix(x_test).T \n",
    "y_test_mat = np.matrix(y_test).T"
   ]
  },
  {
   "cell_type": "markdown",
   "metadata": {},
   "source": [
    "### Choose a proper c"
   ]
  },
  {
   "cell_type": "code",
   "execution_count": null,
   "metadata": {
    "collapsed": false
   },
   "outputs": [],
   "source": [
    "cLow = 0.01\n",
    "cUp = 2\n",
    "iter_num = 30\n",
    "var_list = []\n",
    "bias_list = []\n",
    "weights = []\n",
    "\n",
    "for i in range(0, iter_num):\n",
    "    c = (cUp-cLow)/iter_num * i + cLow\n",
    "    network = NeuralNetwork(494, 30, 21, c)\n",
    "    network.bulk_train(x_train, y_train)\n",
    "    variance = network.cost(network.pack(), x_train_mat, y_train_mat, network)\n",
    "    bias = network.cost(network.pack(), x_test_mat, y_test_mat, network)\n",
    "    var_list.append(variance)\n",
    "    bias_list.append(bias)\n",
    "    weights.append((c, network.pack()))\n",
    "\n",
    "pickle.dump((var_list, bias_list, weights), open('choose_c_0.01_2','wb'))\n"
   ]
  },
  {
   "cell_type": "markdown",
   "metadata": {},
   "source": [
    "### Plot"
   ]
  },
  {
   "cell_type": "code",
   "execution_count": 128,
   "metadata": {
    "collapsed": false
   },
   "outputs": [
    {
     "name": "stderr",
     "output_type": "stream",
     "text": [
      "F:\\Applications\\Anaconda3\\lib\\site-packages\\matplotlib\\__init__.py:872: UserWarning: axes.color_cycle is deprecated and replaced with axes.prop_cycle; please use the latter.\n",
      "  warnings.warn(self.msg_depr % (key, alt_key))\n",
      "F:\\Applications\\Anaconda3\\lib\\site-packages\\ggplot\\stats\\stat_smooth.py:22: FutureWarning: sort(columns=....) is deprecated, use sort_values(by=.....)\n",
      "  data = data.sort(['x'])\n"
     ]
    },
    {
     "data": {
      "text/plain": [
       "<ggplot: (-9223371932442630908)>"
      ]
     },
     "execution_count": 128,
     "metadata": {},
     "output_type": "execute_result"
    }
   ],
   "source": [
    "from ggplot import *\n",
    "\n",
    "size = len(weights)\n",
    "c_list = [i[0] for i in weights] * 2\n",
    "class_list = ['variance'] * size+['bias'] * size\n",
    "data = pd.DataFrame({'c':c_list ,'value': var_list + bias_list, 'class':class_list})\n",
    "\n",
    "ggplot(data, aes(x='c', y='value', color='class')) + geom_point() + geom_smooth()\n",
    "#ggplot(data, aes(x='c', y='bias'))+geom_smooth()+geom_point()"
   ]
  },
  {
   "cell_type": "code",
   "execution_count": 126,
   "metadata": {
    "collapsed": false
   },
   "outputs": [
    {
     "data": {
      "text/plain": [
       "[46.027480310519017,\n",
       " 38.700132118203953,\n",
       " 44.826462708904522,\n",
       " 40.927694932164144,\n",
       " 44.908907433539525,\n",
       " 47.303594031700854,\n",
       " 46.957436507294297,\n",
       " 45.15932262699377,\n",
       " 49.268734378605785,\n",
       " 49.908398178208884,\n",
       " 46.95599685142065,\n",
       " 49.870226626939612,\n",
       " 50.465990731221034,\n",
       " 53.984905874715622,\n",
       " 51.90709539306858,\n",
       " 58.857726707671652,\n",
       " 53.657201988296421,\n",
       " 57.072869943536915,\n",
       " 52.84218061984128,\n",
       " 58.013535062510499,\n",
       " 58.111728073814945,\n",
       " 57.979839029655672,\n",
       " 59.202634862948209,\n",
       " 58.304682521061395,\n",
       " 59.47392344666433,\n",
       " 56.136694187878177,\n",
       " 60.463749424847251,\n",
       " 64.535971826867055,\n",
       " 60.623374451253802,\n",
       " 62.452230422732896]"
      ]
     },
     "execution_count": 126,
     "metadata": {},
     "output_type": "execute_result"
    }
   ],
   "source": []
  },
  {
   "cell_type": "code",
   "execution_count": 15,
   "metadata": {
    "collapsed": true
   },
   "outputs": [],
   "source": [
    "network.dump_parameters('weights')"
   ]
  },
  {
   "cell_type": "code",
   "execution_count": 16,
   "metadata": {
    "collapsed": false
   },
   "outputs": [],
   "source": [
    "network.load_parameters('weights')"
   ]
  },
  {
   "cell_type": "code",
   "execution_count": null,
   "metadata": {
    "collapsed": true
   },
   "outputs": [],
   "source": []
  }
 ],
 "metadata": {
  "kernelspec": {
   "display_name": "Python 3",
   "language": "python",
   "name": "python3"
  },
  "language_info": {
   "codemirror_mode": {
    "name": "ipython",
    "version": 3
   },
   "file_extension": ".py",
   "mimetype": "text/x-python",
   "name": "python",
   "nbconvert_exporter": "python",
   "pygments_lexer": "ipython3",
   "version": "3.5.1"
  }
 },
 "nbformat": 4,
 "nbformat_minor": 0
}
